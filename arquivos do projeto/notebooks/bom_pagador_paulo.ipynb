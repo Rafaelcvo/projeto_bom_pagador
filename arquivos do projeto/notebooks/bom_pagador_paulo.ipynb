{
 "cells": [
  {
   "cell_type": "markdown",
   "metadata": {},
   "source": [
    "# Validação dos Campos:"
   ]
  },
  {
   "cell_type": "code",
   "execution_count": 1,
   "metadata": {},
   "outputs": [],
   "source": [
    "import pandas as pd\n",
    "import numpy as np"
   ]
  },
  {
   "cell_type": "code",
   "execution_count": 3,
   "metadata": {},
   "outputs": [
    {
     "data": {
      "text/html": [
       "<div>\n",
       "<style scoped>\n",
       "    .dataframe tbody tr th:only-of-type {\n",
       "        vertical-align: middle;\n",
       "    }\n",
       "\n",
       "    .dataframe tbody tr th {\n",
       "        vertical-align: top;\n",
       "    }\n",
       "\n",
       "    .dataframe thead th {\n",
       "        text-align: right;\n",
       "    }\n",
       "</style>\n",
       "<table border=\"1\" class=\"dataframe\">\n",
       "  <thead>\n",
       "    <tr style=\"text-align: right;\">\n",
       "      <th></th>\n",
       "      <th>LIMIT_BAL</th>\n",
       "      <th>SEX</th>\n",
       "      <th>EDUCATION</th>\n",
       "      <th>MARRIAGE</th>\n",
       "      <th>AGE</th>\n",
       "      <th>PAY_0</th>\n",
       "      <th>PAY_2</th>\n",
       "      <th>PAY_3</th>\n",
       "      <th>PAY_4</th>\n",
       "      <th>PAY_5</th>\n",
       "      <th>...</th>\n",
       "      <th>BILL_AMT4</th>\n",
       "      <th>BILL_AMT5</th>\n",
       "      <th>BILL_AMT6</th>\n",
       "      <th>PAY_AMT1</th>\n",
       "      <th>PAY_AMT2</th>\n",
       "      <th>PAY_AMT3</th>\n",
       "      <th>PAY_AMT4</th>\n",
       "      <th>PAY_AMT5</th>\n",
       "      <th>PAY_AMT6</th>\n",
       "      <th>default payment next month</th>\n",
       "    </tr>\n",
       "    <tr>\n",
       "      <th>ID</th>\n",
       "      <th></th>\n",
       "      <th></th>\n",
       "      <th></th>\n",
       "      <th></th>\n",
       "      <th></th>\n",
       "      <th></th>\n",
       "      <th></th>\n",
       "      <th></th>\n",
       "      <th></th>\n",
       "      <th></th>\n",
       "      <th></th>\n",
       "      <th></th>\n",
       "      <th></th>\n",
       "      <th></th>\n",
       "      <th></th>\n",
       "      <th></th>\n",
       "      <th></th>\n",
       "      <th></th>\n",
       "      <th></th>\n",
       "      <th></th>\n",
       "      <th></th>\n",
       "    </tr>\n",
       "  </thead>\n",
       "  <tbody>\n",
       "    <tr>\n",
       "      <th>1</th>\n",
       "      <td>20000</td>\n",
       "      <td>2</td>\n",
       "      <td>2</td>\n",
       "      <td>1</td>\n",
       "      <td>24</td>\n",
       "      <td>2</td>\n",
       "      <td>2</td>\n",
       "      <td>-1</td>\n",
       "      <td>-1</td>\n",
       "      <td>-2</td>\n",
       "      <td>...</td>\n",
       "      <td>0</td>\n",
       "      <td>0</td>\n",
       "      <td>0</td>\n",
       "      <td>0</td>\n",
       "      <td>689</td>\n",
       "      <td>0</td>\n",
       "      <td>0</td>\n",
       "      <td>0</td>\n",
       "      <td>0</td>\n",
       "      <td>1</td>\n",
       "    </tr>\n",
       "    <tr>\n",
       "      <th>2</th>\n",
       "      <td>120000</td>\n",
       "      <td>2</td>\n",
       "      <td>2</td>\n",
       "      <td>2</td>\n",
       "      <td>26</td>\n",
       "      <td>-1</td>\n",
       "      <td>2</td>\n",
       "      <td>0</td>\n",
       "      <td>0</td>\n",
       "      <td>0</td>\n",
       "      <td>...</td>\n",
       "      <td>3272</td>\n",
       "      <td>3455</td>\n",
       "      <td>3261</td>\n",
       "      <td>0</td>\n",
       "      <td>1000</td>\n",
       "      <td>1000</td>\n",
       "      <td>1000</td>\n",
       "      <td>0</td>\n",
       "      <td>2000</td>\n",
       "      <td>1</td>\n",
       "    </tr>\n",
       "    <tr>\n",
       "      <th>3</th>\n",
       "      <td>90000</td>\n",
       "      <td>2</td>\n",
       "      <td>2</td>\n",
       "      <td>2</td>\n",
       "      <td>34</td>\n",
       "      <td>0</td>\n",
       "      <td>0</td>\n",
       "      <td>0</td>\n",
       "      <td>0</td>\n",
       "      <td>0</td>\n",
       "      <td>...</td>\n",
       "      <td>14331</td>\n",
       "      <td>14948</td>\n",
       "      <td>15549</td>\n",
       "      <td>1518</td>\n",
       "      <td>1500</td>\n",
       "      <td>1000</td>\n",
       "      <td>1000</td>\n",
       "      <td>1000</td>\n",
       "      <td>5000</td>\n",
       "      <td>0</td>\n",
       "    </tr>\n",
       "  </tbody>\n",
       "</table>\n",
       "<p>3 rows × 24 columns</p>\n",
       "</div>"
      ],
      "text/plain": [
       "    LIMIT_BAL  SEX  EDUCATION  MARRIAGE  AGE  PAY_0  PAY_2  PAY_3  PAY_4  \\\n",
       "ID                                                                         \n",
       "1       20000    2          2         1   24      2      2     -1     -1   \n",
       "2      120000    2          2         2   26     -1      2      0      0   \n",
       "3       90000    2          2         2   34      0      0      0      0   \n",
       "\n",
       "    PAY_5  ...  BILL_AMT4  BILL_AMT5  BILL_AMT6  PAY_AMT1  PAY_AMT2  PAY_AMT3  \\\n",
       "ID         ...                                                                  \n",
       "1      -2  ...          0          0          0         0       689         0   \n",
       "2       0  ...       3272       3455       3261         0      1000      1000   \n",
       "3       0  ...      14331      14948      15549      1518      1500      1000   \n",
       "\n",
       "    PAY_AMT4  PAY_AMT5  PAY_AMT6  default payment next month  \n",
       "ID                                                            \n",
       "1          0         0         0                           1  \n",
       "2       1000         0      2000                           1  \n",
       "3       1000      1000      5000                           0  \n",
       "\n",
       "[3 rows x 24 columns]"
      ]
     },
     "execution_count": 3,
     "metadata": {},
     "output_type": "execute_result"
    }
   ],
   "source": [
    "base = pd.read_csv(\"/home/rafael/git/projeto_bom_pagador/dataset/train.csv\", index_col='ID')\n",
    "'''\n",
    "base.columns = ['id','credito','genero','educacao','estado_civil','idade',\n",
    "             'hist_mes1','hist_mes2','hist_mes3','hist_mes4','hist_mes5','hist_mes6',\n",
    "             'declaracao_conta_1','declaracao_conta_2','declaracao_conta_3','declaracao_conta_4','declaracao_conta_5',\n",
    "             'declaracao_conta_6','pg_anterior_1','pg_anterior_2','pg_anterior_3','pg_anterior_4','pg_anterior_5',\n",
    "             'pg_anterior_6','classificador']\n",
    "'''\n",
    "base.head(3)"
   ]
  },
  {
   "cell_type": "code",
   "execution_count": 4,
   "metadata": {},
   "outputs": [
    {
     "name": "stdout",
     "output_type": "stream",
     "text": [
      "0\n",
      "10000\n",
      "0\n"
     ]
    }
   ],
   "source": [
    "'''\n",
    "# X1: Quanto foi dado de crédito em dólar (individual e família) (montante de crédito concedido)\n",
    "## Campo sem divergência\n",
    "### No código utilizado o campo esta sendo tratado como renda, entretanto, a descrição do dataset informa que o \n",
    "    campo corresponde ao valor do crédito concedido\n",
    "'''\n",
    "print(base['LIMIT_BAL'].isnull().sum())\n",
    "print(base['LIMIT_BAL'].min())\n",
    "print(len(base['LIMIT_BAL'].loc[(base['LIMIT_BAL']==0)]))"
   ]
  },
  {
   "cell_type": "code",
   "execution_count": 5,
   "metadata": {},
   "outputs": [
    {
     "data": {
      "text/plain": [
       "0"
      ]
     },
     "execution_count": 5,
     "metadata": {},
     "output_type": "execute_result"
    }
   ],
   "source": [
    "'''\n",
    "# X2: Gênero -> 1 = Masculino, 2 = Feminino\n",
    "## Campo sem divergência\n",
    "'''\n",
    "\n",
    "len(base.loc[(base['SEX']<1)|(base['SEX']>2)])"
   ]
  },
  {
   "cell_type": "code",
   "execution_count": 6,
   "metadata": {},
   "outputs": [
    {
     "data": {
      "text/plain": [
       "207"
      ]
     },
     "execution_count": 6,
     "metadata": {},
     "output_type": "execute_result"
    }
   ],
   "source": [
    "'''\n",
    "# X3: Educação -> 1 = Pós-Graduação, 2 = Universidade, 3 = Ensino Médio, 4 = Outros\n",
    "## Dataset apresenta dados divergentes da descrição\n",
    "'''\n",
    "\n",
    "len(base.loc[(base['EDUCATION']<1)|(base['EDUCATION']>4)])"
   ]
  },
  {
   "cell_type": "code",
   "execution_count": 7,
   "metadata": {},
   "outputs": [
    {
     "data": {
      "text/plain": [
       "35"
      ]
     },
     "execution_count": 7,
     "metadata": {},
     "output_type": "execute_result"
    }
   ],
   "source": [
    "'''\n",
    "# X4: Estado Civil -> 1 = Casado, 2 = Solteiro, 3 = Outros\n",
    "## Dataset apresenta dados divergentes da descrição\n",
    "'''\n",
    "\n",
    "len(base.loc[(base['MARRIAGE']<1)|(base['MARRIAGE']>3)])"
   ]
  },
  {
   "cell_type": "code",
   "execution_count": 8,
   "metadata": {},
   "outputs": [
    {
     "name": "stdout",
     "output_type": "stream",
     "text": [
      "0\n",
      "21\n",
      "79\n"
     ]
    }
   ],
   "source": [
    "'''\n",
    "# X5: Idade\n",
    "## Campo sem divergência\n",
    "'''\n",
    "\n",
    "print(base['AGE'].isnull().sum())\n",
    "print(base['AGE'].min())\n",
    "print(base['AGE'].max())"
   ]
  },
  {
   "cell_type": "code",
   "execution_count": 9,
   "metadata": {},
   "outputs": [
    {
     "name": "stdout",
     "output_type": "stream",
     "text": [
      "PAY_0:1700\n",
      "PAY_2:2470\n",
      "PAY_3:2685\n",
      "PAY_4:2866\n",
      "PAY_5:2992\n",
      "PAY_6:3244\n"
     ]
    }
   ],
   "source": [
    "'''\n",
    "# X6 - X11: Histórico de Pagamentos -> X6 = Setembro à X11 = Abril\n",
    "  Códigos: \n",
    "  -1: Pagou devidamente; \n",
    "  1: Pagou com atraso de um mês; \n",
    "  2: Pagou com atraso de dois meses;\n",
    "  3: Pagou com atraso de três meses;\n",
    "## Campo com  divergência\n",
    "'''\n",
    "lista_historico=['PAY_0','PAY_2','PAY_3','PAY_4','PAY_5','PAY_6']\n",
    "\n",
    "for i in lista_historico:\n",
    "    print(i + \":\" + str(len(base.loc[(base[i]<-1)])))\n"
   ]
  },
  {
   "cell_type": "code",
   "execution_count": 10,
   "metadata": {},
   "outputs": [
    {
     "name": "stdout",
     "output_type": "stream",
     "text": [
      "BILL_AMT1: 384\n",
      "BILL_AMT1nulo: 0\n",
      "BILL_AMT1mínimo: -165580\n",
      "BILL_AMT2: 441\n",
      "BILL_AMT2nulo: 0\n",
      "BILL_AMT2mínimo: -33350\n",
      "BILL_AMT3: 433\n",
      "BILL_AMT3nulo: 0\n",
      "BILL_AMT3mínimo: -157264\n",
      "BILL_AMT4: 437\n",
      "BILL_AMT4nulo: 0\n",
      "BILL_AMT4mínimo: -170000\n",
      "BILL_AMT5: 433\n",
      "BILL_AMT5nulo: 0\n",
      "BILL_AMT5mínimo: -37594\n",
      "BILL_AMT6: 459\n",
      "BILL_AMT6nulo: 0\n",
      "BILL_AMT6mínimo: -339603\n"
     ]
    }
   ],
   "source": [
    "'''\n",
    "# X12 - X17: Quantia de declaração de conta -> X12 = Setembro à X17 = Abril\n",
    "## Não entendi muito este campo, mas ao que parece, se trata do valor da fatura, log, não poderia haver valores negativos\n",
    "## Campo com  divergência\n",
    "'''\n",
    "\n",
    "lista_historico=['BILL_AMT1','BILL_AMT2','BILL_AMT3','BILL_AMT4','BILL_AMT5','BILL_AMT6']\n",
    "\n",
    "for i in lista_historico:\n",
    "    print(i + \": \" + str(len(base.loc[(base[i]<-1)])))\n",
    "    print(i + \"nulo: \" + str(base[i].isnull().sum()))\n",
    "    print(i + \"mínimo: \" + str(base[i].min()))\n"
   ]
  },
  {
   "cell_type": "code",
   "execution_count": 11,
   "metadata": {},
   "outputs": [
    {
     "name": "stdout",
     "output_type": "stream",
     "text": [
      "PAY_AMT1: 0\n",
      "PAY_AMT1nulo: 0\n",
      "PAY_AMT1mínimo: 0\n",
      "PAY_AMT2: 0\n",
      "PAY_AMT2nulo: 0\n",
      "PAY_AMT2mínimo: 0\n",
      "PAY_AMT3: 0\n",
      "PAY_AMT3nulo: 0\n",
      "PAY_AMT3mínimo: 0\n",
      "PAY_AMT4: 0\n",
      "PAY_AMT4nulo: 0\n",
      "PAY_AMT4mínimo: 0\n",
      "PAY_AMT5: 0\n",
      "PAY_AMT5nulo: 0\n",
      "PAY_AMT5mínimo: 0\n",
      "PAY_AMT6: 0\n",
      "PAY_AMT6nulo: 0\n",
      "PAY_AMT6mínimo: 0\n"
     ]
    }
   ],
   "source": [
    "'''\n",
    "# X18 -> X23: Montante do pagamento anterior -> X18 = Setembro à X23 = Abril (PAYAMT...)\n",
    "# Campo sem divergência\n",
    "'''\n",
    "\n",
    "lista_historico=['PAY_AMT1','PAY_AMT2','PAY_AMT3','PAY_AMT4','PAY_AMT5','PAY_AMT6']\n",
    "\n",
    "for i in lista_historico:\n",
    "    print(i + \": \" + str(len(base.loc[(base[i]<-1)])))\n",
    "    print(i + \"nulo: \" + str(base[i].isnull().sum()))\n",
    "    print(i + \"mínimo: \" + str(base[i].min()))\n"
   ]
  },
  {
   "cell_type": "code",
   "execution_count": 12,
   "metadata": {},
   "outputs": [
    {
     "data": {
      "text/plain": [
       "{0, 1}"
      ]
     },
     "execution_count": 12,
     "metadata": {},
     "output_type": "execute_result"
    }
   ],
   "source": [
    "'''\n",
    "# X24: Se a pessoa pagou, variável de interesse -> 1 = Sim, 2 = Não\n",
    "## Campo apresenta codificação diferente do proposto para classificador\n",
    "'''\n",
    "\n",
    "len(base.loc[(base['default payment next month']<1)|(base['default payment next month']>2)])\n",
    "\n",
    "teste= set(base['default payment next month'])\n",
    "teste"
   ]
  },
  {
   "cell_type": "markdown",
   "metadata": {},
   "source": [
    "# Observação do Código:"
   ]
  },
  {
   "cell_type": "code",
   "execution_count": 13,
   "metadata": {},
   "outputs": [
    {
     "ename": "NameError",
     "evalue": "name 'previsores' is not defined",
     "output_type": "error",
     "traceback": [
      "\u001b[0;31m---------------------------------------------------------------------------\u001b[0m",
      "\u001b[0;31mNameError\u001b[0m                                 Traceback (most recent call last)",
      "\u001b[0;32m<ipython-input-13-40c2fd763753>\u001b[0m in \u001b[0;36m<module>\u001b[0;34m\u001b[0m\n\u001b[1;32m     10\u001b[0m \u001b[0;32mfrom\u001b[0m \u001b[0msklearn\u001b[0m\u001b[0;34m.\u001b[0m\u001b[0mpreprocessing\u001b[0m \u001b[0;32mimport\u001b[0m \u001b[0mStandardScaler\u001b[0m\u001b[0;34m\u001b[0m\u001b[0;34m\u001b[0m\u001b[0m\n\u001b[1;32m     11\u001b[0m \u001b[0mescalonamento\u001b[0m \u001b[0;34m=\u001b[0m \u001b[0mStandardScaler\u001b[0m\u001b[0;34m(\u001b[0m\u001b[0;34m)\u001b[0m\u001b[0;34m\u001b[0m\u001b[0;34m\u001b[0m\u001b[0m\n\u001b[0;32m---> 12\u001b[0;31m \u001b[0mprevisores\u001b[0m \u001b[0;34m=\u001b[0m \u001b[0mescalonamento\u001b[0m\u001b[0;34m.\u001b[0m\u001b[0mfit_transform\u001b[0m\u001b[0;34m(\u001b[0m\u001b[0mprevisores\u001b[0m\u001b[0;34m)\u001b[0m\u001b[0;34m\u001b[0m\u001b[0;34m\u001b[0m\u001b[0m\n\u001b[0m\u001b[1;32m     13\u001b[0m \u001b[0mprevisores\u001b[0m\u001b[0;34m\u001b[0m\u001b[0;34m\u001b[0m\u001b[0m\n",
      "\u001b[0;31mNameError\u001b[0m: name 'previsores' is not defined"
     ]
    }
   ],
   "source": [
    "'''\n",
    "Não identifiquei o Escalonamento das variáveis (colocar os valores na mesma escala) o que se mostra \n",
    "necessários para algoritimos que utilizam a distância euclidiana\n",
    "é necessário realizar este processo para normalizar os valores, com isto,impedindo que uma variável \n",
    "seja considerada mais importante do que outra (ex: Renda e Idade).\n",
    "No caso de algoritimos que não utilizam a distância euclidiana, este processo permitirá a execução \n",
    "mais rápida do algoritimo.\n",
    "'''\n",
    "# Padronização\n",
    "from sklearn.preprocessing import StandardScaler\n",
    "escalonamento = StandardScaler()\n",
    "previsores = escalonamento.fit_transform(previsores)\n",
    "previsores"
   ]
  }
 ],
 "metadata": {
  "kernelspec": {
   "display_name": "Python 3",
   "language": "python",
   "name": "python3"
  },
  "language_info": {
   "codemirror_mode": {
    "name": "ipython",
    "version": 3
   },
   "file_extension": ".py",
   "mimetype": "text/x-python",
   "name": "python",
   "nbconvert_exporter": "python",
   "pygments_lexer": "ipython3",
   "version": "3.8.2"
  }
 },
 "nbformat": 4,
 "nbformat_minor": 4
}
